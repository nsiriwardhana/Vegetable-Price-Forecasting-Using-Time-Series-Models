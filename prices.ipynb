{
 "cells": [
  {
   "cell_type": "code",
   "execution_count": 20,
   "id": "09299c8f-c098-4176-9e4e-8da92bcc2208",
   "metadata": {},
   "outputs": [
    {
     "name": "stdout",
     "output_type": "stream",
     "text": [
      "The first Daily Price Report PDF link is: https://www.cbsl.gov.lk/sites/default/files/cbslweb_documents/statistics/pricerpt/price_report_20250417_e.pdf\n"
     ]
    },
    {
     "name": "stderr",
     "output_type": "stream",
     "text": [
      "C:\\Users\\nipunisi\\AppData\\Local\\anaconda3\\Lib\\site-packages\\urllib3\\connectionpool.py:1099: InsecureRequestWarning: Unverified HTTPS request is being made to host 'www.cbsl.gov.lk'. Adding certificate verification is strongly advised. See: https://urllib3.readthedocs.io/en/latest/advanced-usage.html#tls-warnings\n",
      "  warnings.warn(\n"
     ]
    },
    {
     "name": "stdout",
     "output_type": "stream",
     "text": [
      "\n",
      "✅ CSV with item, unit, yesterday price, today price, and date saved as: price_report.csv\n"
     ]
    }
   ],
   "source": [
    "import requests\n",
    "import fitz  # PyMuPDF\n",
    "import csv\n",
    "from selenium import webdriver\n",
    "from selenium.webdriver.chrome.service import Service\n",
    "from selenium.webdriver.common.by import By\n",
    "from selenium.webdriver.chrome.options import Options\n",
    "import re\n",
    "\n",
    "# Path to your local chromedriver\n",
    "chromedriver_path = \"C:\\\\chromedriver-win64\\\\chromedriver.exe\"\n",
    "\n",
    "# Set up Selenium WebDriver\n",
    "options = Options()\n",
    "options.headless = False\n",
    "service = Service(chromedriver_path)\n",
    "driver = webdriver.Chrome(service=service, options=options)\n",
    "\n",
    "# Open the URL\n",
    "url = \"https://www.cbsl.gov.lk/en/statistics/economic-indicators/price-report\"\n",
    "driver.get(url)\n",
    "\n",
    "# Find the PDF link\n",
    "first_pdf_link = driver.find_element(\n",
    "    By.XPATH, \"//a[contains(@href, 'price_report') and contains(@href, '.pdf')]\"\n",
    ").get_attribute(\"href\")\n",
    "\n",
    "print(f\"The first Daily Price Report PDF link is: {first_pdf_link}\")\n",
    "\n",
    "# Download PDF\n",
    "pdf_response = requests.get(first_pdf_link, verify=False)\n",
    "pdf_path = \"daily_price_report.pdf\"\n",
    "with open(pdf_path, 'wb') as f:\n",
    "    f.write(pdf_response.content)\n",
    "\n",
    "# Extract second page text\n",
    "doc = fitz.open(pdf_path)\n",
    "page = doc.load_page(1)\n",
    "page_text = page.get_text(\"text\")\n",
    "\n",
    "# Close browser and doc\n",
    "driver.quit()\n",
    "doc.close()\n",
    "\n",
    "# Process the text\n",
    "lines = [line.strip() for line in page_text.split(\"\\n\") if line.strip()]\n",
    "\n",
    "# Regex pattern to find the date in the header (assumes date format like \"17 April 2025\")\n",
    "date_pattern = r\"\\d{1,2}\\s\\w+\\s\\d{4}\"\n",
    "\n",
    "# Search for the date in the text\n",
    "date_match = re.search(date_pattern, page_text)\n",
    "\n",
    "# If a date is found, use it. If not, default to \"Unknown\"\n",
    "date = date_match.group() if date_match else \"Unknown\"\n",
    "\n",
    "# CSV output\n",
    "csv_filename = \"price_report.csv\"\n",
    "with open(csv_filename, mode='w', newline='', encoding='utf-8') as file:\n",
    "    writer = csv.writer(file)\n",
    "    writer.writerow([\"Item\", \"Unit\", \"Yesterday Price\", \"Today Price\", \"Date\"])\n",
    "\n",
    "    # Extracting the data\n",
    "    i = 0\n",
    "    while i < len(lines) - 3:\n",
    "        item = lines[i]\n",
    "        unit_line = lines[i + 1]\n",
    "        yesterday_price_line = lines[i + 2]\n",
    "        today_price_line = lines[i + 3]\n",
    "\n",
    "        if \"Rs./\" in unit_line:\n",
    "            unit = unit_line\n",
    "            yesterday_price = yesterday_price_line.split()[0] if yesterday_price_line.split() else \"n.a.\"\n",
    "            today_price = today_price_line.split()[0] if today_price_line.split() else \"n.a.\"\n",
    "            writer.writerow([item, unit, yesterday_price, today_price, date])\n",
    "            i += 4  # Move to next block\n",
    "        else:\n",
    "            i += 1  # Skip if format doesn't match\n",
    "\n",
    "print(f\"\\n✅ CSV with item, unit, yesterday price, today price, and date saved as: {csv_filename}\")\n"
   ]
  },
  {
   "cell_type": "code",
   "execution_count": 19,
   "id": "6d162751-0aad-415a-b953-3e91e391960c",
   "metadata": {},
   "outputs": [],
   "source": [
    "# import requests\n",
    "# import fitz  # PyMuPDF\n",
    "# import csv\n",
    "# from selenium import webdriver\n",
    "# from selenium.webdriver.chrome.service import Service\n",
    "# from selenium.webdriver.common.by import By\n",
    "# from selenium.webdriver.chrome.options import Options\n",
    "\n",
    "# # Path to your local chromedriver\n",
    "# chromedriver_path = \"C:\\\\chromedriver-win64\\\\chromedriver.exe\"\n",
    "\n",
    "# # Set up Selenium WebDriver\n",
    "# options = Options()\n",
    "# options.headless = False\n",
    "# service = Service(chromedriver_path)\n",
    "# driver = webdriver.Chrome(service=service, options=options)\n",
    "\n",
    "# # Open the URL\n",
    "# url = \"https://www.cbsl.gov.lk/en/statistics/economic-indicators/price-report\"\n",
    "# driver.get(url)\n",
    "\n",
    "# # Find the PDF link\n",
    "# first_pdf_link = driver.find_element(\n",
    "#     By.XPATH, \"//a[contains(@href, 'price_report') and contains(@href, '.pdf')]\"\n",
    "# ).get_attribute(\"href\")\n",
    "\n",
    "# print(f\"The first Daily Price Report PDF link is: {first_pdf_link}\")\n",
    "\n",
    "# # Download PDF\n",
    "# pdf_response = requests.get(first_pdf_link, verify=False)\n",
    "# pdf_path = \"daily_price_report.pdf\"\n",
    "# with open(pdf_path, 'wb') as f:\n",
    "#     f.write(pdf_response.content)\n",
    "\n",
    "# # Extract second page text\n",
    "# doc = fitz.open(pdf_path)\n",
    "# page = doc.load_page(1)\n",
    "# page_text = page.get_text(\"text\")\n",
    "\n",
    "# # Close browser and doc\n",
    "# driver.quit()\n",
    "# doc.close()\n",
    "\n",
    "# # Process the text\n",
    "# lines = [line.strip() for line in page_text.split(\"\\n\") if line.strip()]\n",
    "\n",
    "# # CSV output\n",
    "# csv_filename = \"first_four_columns.csv\"\n",
    "# with open(csv_filename, mode='w', newline='', encoding='utf-8') as file:\n",
    "#     writer = csv.writer(file)\n",
    "#     writer.writerow([\"Item\", \"Unit\", \"Wholesale Price\", \"Retail Price\"])\n",
    "\n",
    "#     i = 0\n",
    "#     while i < len(lines) - 3:\n",
    "#         item = lines[i]\n",
    "#         unit_line = lines[i + 1]\n",
    "#         wholesale_price_line = lines[i + 2]\n",
    "#         retail_price_line = lines[i + 3]\n",
    "\n",
    "#         if \"Rs./\" in unit_line:\n",
    "#             unit = unit_line\n",
    "#             wholesale_price = wholesale_price_line.split()[0] if wholesale_price_line.split() else \"n.a.\"\n",
    "#             retail_price = retail_price_line.split()[0] if retail_price_line.split() else \"n.a.\"\n",
    "#             writer.writerow([item, unit, wholesale_price, retail_price])\n",
    "#             i += 4  # Move to next block\n",
    "#         else:\n",
    "#             i += 1  # Skip if format doesn't match\n",
    "\n",
    "# print(f\"\\n✅ CSV with item, unit, wholesale price, and retail price saved as: {csv_filename}\")\n"
   ]
  },
  {
   "cell_type": "code",
   "execution_count": 18,
   "id": "82f19b73-5864-4ae3-acb5-81f3ce80e537",
   "metadata": {},
   "outputs": [
    {
     "name": "stdout",
     "output_type": "stream",
     "text": [
      "The first Daily Price Report PDF link is: https://www.cbsl.gov.lk/sites/default/files/cbslweb_documents/statistics/pricerpt/price_report_20250417_e.pdf\n"
     ]
    },
    {
     "name": "stderr",
     "output_type": "stream",
     "text": [
      "C:\\Users\\nipunisi\\AppData\\Local\\anaconda3\\Lib\\site-packages\\urllib3\\connectionpool.py:1099: InsecureRequestWarning: Unverified HTTPS request is being made to host 'www.cbsl.gov.lk'. Adding certificate verification is strongly advised. See: https://urllib3.readthedocs.io/en/latest/advanced-usage.html#tls-warnings\n",
      "  warnings.warn(\n"
     ]
    },
    {
     "name": "stdout",
     "output_type": "stream",
     "text": [
      "\n",
      "✅ CSV with item, unit, yesterday price, today price, and date saved as: price_report_with_date.csv\n"
     ]
    }
   ],
   "source": []
  },
  {
   "cell_type": "code",
   "execution_count": null,
   "id": "9532007c-64e2-4952-9312-54113188238f",
   "metadata": {},
   "outputs": [],
   "source": []
  }
 ],
 "metadata": {
  "kernelspec": {
   "display_name": "Python 3 (ipykernel)",
   "language": "python",
   "name": "python3"
  },
  "language_info": {
   "codemirror_mode": {
    "name": "ipython",
    "version": 3
   },
   "file_extension": ".py",
   "mimetype": "text/x-python",
   "name": "python",
   "nbconvert_exporter": "python",
   "pygments_lexer": "ipython3",
   "version": "3.12.7"
  }
 },
 "nbformat": 4,
 "nbformat_minor": 5
}
